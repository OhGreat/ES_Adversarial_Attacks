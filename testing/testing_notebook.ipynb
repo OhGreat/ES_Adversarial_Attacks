{
 "cells": [
  {
   "cell_type": "code",
   "execution_count": 1,
   "metadata": {},
   "outputs": [],
   "source": [
    "# Setting paths to folders\n",
    "import os\n",
    "#os.environ[\"CUDA_VISIBLE_DEVICES\"]=\"-1\"   \n",
    "\n",
    "import sys\n",
    "sys.path.insert(1, '../classes')\n",
    "sys.path.insert(1, '../tf_model')"
   ]
  },
  {
   "cell_type": "markdown",
   "metadata": {},
   "source": [
    "<h2>\n",
    "Individual\n",
    "</h2>"
   ]
  },
  {
   "cell_type": "code",
   "execution_count": 2,
   "metadata": {},
   "outputs": [
    {
     "name": "stdout",
     "output_type": "stream",
     "text": [
      "vals: [ 0.98371383  0.03159969 -0.24026859  0.77524554  0.69848779  0.6066883\n",
      "  0.51366423  0.85245071  0.69990466 -0.66380143]\n",
      "sigmas: [1.66666667 1.66666667 1.66666667 1.66666667 1.66666667 1.66666667\n",
      " 1.66666667 1.66666667 1.66666667 1.66666667]\n",
      "alphas: [0.08877839 5.08508961 3.77265377 1.2155217  0.08501721 4.08705479\n",
      " 0.77174496 0.43255954 2.92730582 1.54355757 3.50150184 2.42118362\n",
      " 3.64445586 4.24997801 0.22148688 3.03201895 4.51042    5.53760287\n",
      " 2.01648573 4.39179592 4.18321508 4.00190842 1.88114589 3.27789086\n",
      " 0.16775373 4.94896756 5.84281748 4.40954175 2.14295237 2.19089168\n",
      " 4.7084602  4.14547025 2.08542065 2.24451915 2.34688913 5.11652833\n",
      " 0.24515067 5.2437854  2.5575723  4.25216448 0.93766677 0.84392336\n",
      " 0.37030885 1.56347473 5.63017417]\n"
     ]
    }
   ],
   "source": [
    "from Individual import *\n",
    "i = Individual(10,5)\n",
    "print(f\"vals: {i.values}\")\n",
    "print(f\"sigmas: {i.sigmas}\")\n",
    "print(f\"alphas: {i.alphas}\")"
   ]
  },
  {
   "cell_type": "markdown",
   "metadata": {},
   "source": [
    "<h2>\n",
    "Individual: copy\n",
    "</h2>"
   ]
  },
  {
   "cell_type": "code",
   "execution_count": 3,
   "metadata": {},
   "outputs": [
    {
     "data": {
      "text/plain": [
       "array([ 0.98371383,  0.03159969, -0.24026859,  0.77524554,  0.69848779,\n",
       "        0.6066883 ,  0.51366423,  0.85245071,  0.69990466, -0.66380143])"
      ]
     },
     "execution_count": 3,
     "metadata": {},
     "output_type": "execute_result"
    }
   ],
   "source": [
    "i_copy = i.copy_individual()\n",
    "i_copy.values = 54\n",
    "i.values"
   ]
  },
  {
   "cell_type": "markdown",
   "metadata": {},
   "source": [
    "<h2>\n",
    "Population\n",
    "</h2>"
   ]
  },
  {
   "cell_type": "code",
   "execution_count": 4,
   "metadata": {},
   "outputs": [],
   "source": [
    "def eval_fun(values):\n",
    "    return sum(values)"
   ]
  },
  {
   "cell_type": "code",
   "execution_count": 5,
   "metadata": {},
   "outputs": [
    {
     "name": "stdout",
     "output_type": "stream",
     "text": [
      "population shape: (n_individuals: 4, n_elements:5)\n",
      "\n",
      "all fitnesses: [ 0.72405546  1.1487712  -2.91478303  0.31634692]\n",
      "max: 1.1487711984883884\n",
      "min: -2.914783026940927\n",
      "avg: -0.18140236291845446\n",
      "best: -2.914783026940927\n"
     ]
    }
   ],
   "source": [
    "from Population import *\n",
    "p = Population(4,5)\n",
    "print(f\"population shape: (n_individuals: {len(p.individuals)}, n_elements:{len(p.individuals[0].values)})\")\n",
    "p.evaluate_fitness(eval_fun)\n",
    "print()\n",
    "print(f'all fitnesses: {p.all_fitnesses()}')\n",
    "print(f'max: {p.max_fitness()}')\n",
    "print(f'min: {p.min_fitness()}')\n",
    "print(f'avg: {p.ave_fitness()}')\n",
    "print(f'best: {p.best_fitness(is_min=True)}')"
   ]
  },
  {
   "cell_type": "markdown",
   "metadata": {},
   "source": [
    "<h2>Mutation: CustomSigma</h2>"
   ]
  },
  {
   "cell_type": "code",
   "execution_count": 6,
   "metadata": {},
   "outputs": [
    {
     "name": "stdout",
     "output_type": "stream",
     "text": [
      "before mutation: [ 0.98371383  0.03159969 -0.24026859  0.77524554  0.69848779  0.6066883\n",
      "  0.51366423  0.85245071  0.69990466 -0.66380143]\n",
      "\n",
      "after mutation: [-2.13944214 -5.46600408  1.94899687 -0.0478989   2.02904173  2.19756342\n",
      " -0.13450818 -0.94822779  0.36561276 -2.68176076]\n"
     ]
    }
   ],
   "source": [
    "from Mutation import CustomSigma\n",
    "c = CustomSigma()\n",
    "print(f'before mutation: {i.values}')\n",
    "c.mutate(i)\n",
    "print()\n",
    "print(f'after mutation: {i.values}')"
   ]
  },
  {
   "cell_type": "code",
   "execution_count": 7,
   "metadata": {},
   "outputs": [
    {
     "name": "stdout",
     "output_type": "stream",
     "text": [
      "[ 0.12338699 -0.24877148  0.87964224  0.18340043 -0.90564487]\n",
      "[ 0.23821219 -0.27407342  0.86804891  1.41391333 -0.95150168]\n"
     ]
    }
   ],
   "source": [
    "p = Population(10,5)\n",
    "print(p.individuals[2].values)\n",
    "for ind in p.individuals:\n",
    "    c.mutate(ind)\n",
    "print(p.individuals[2].values)"
   ]
  },
  {
   "cell_type": "markdown",
   "metadata": {},
   "source": [
    "<h2> \n",
    "Selection: 1 + l\n",
    "</h2>"
   ]
  },
  {
   "cell_type": "code",
   "execution_count": 8,
   "metadata": {},
   "outputs": [
    {
     "name": "stdout",
     "output_type": "stream",
     "text": [
      "parent fitnesses: [ 0.53569991  2.37926876  2.86981459  0.75868502  0.17852013 -2.56445679]\n",
      "\n",
      "offspring fitnesses: [ 0.97482075 -0.24479193  0.75111288  2.08102181  2.02529994  0.44048556\n",
      "  2.48459536 -1.41636155 -2.14360066  1.54945914 -1.66956334 -1.80378005\n",
      "  2.51142685 -0.0262052  -0.79359897 -0.77740604 -0.8192601  -0.45095746\n",
      " -0.02010003 -1.17794236  1.11300407 -1.73428492 -4.05561181  2.94146128\n",
      "  0.1618786  -0.55306858  3.48874942 -0.30549125  0.47432296 -0.5981987 ]\n",
      "\n",
      "fitnesses after selection: [-4.05561181 -2.56445679 -2.14360066 -1.80378005 -1.73428492 -1.66956334]\n"
     ]
    }
   ],
   "source": [
    "parent = Population(6,10)\n",
    "parent.evaluate_fitness(eval_fun)\n",
    "offspring = Population(30,10)\n",
    "offspring.evaluate_fitness(eval_fun)\n",
    "print(f'parent fitnesses: {parent.all_fitnesses()}')\n",
    "print()\n",
    "print(f'offspring fitnesses: {offspring.all_fitnesses()}')\n",
    "print()\n",
    "from Selection import OnePlusL\n",
    "s = OnePlusL()\n",
    "p = s.select(parent, offspring)\n",
    "print(f'fitnesses after selection: {p.all_fitnesses()}')"
   ]
  },
  {
   "cell_type": "markdown",
   "metadata": {},
   "source": [
    "<h2> \n",
    "Selection: 1 , l\n",
    "</h2>"
   ]
  },
  {
   "cell_type": "code",
   "execution_count": 9,
   "metadata": {},
   "outputs": [
    {
     "name": "stdout",
     "output_type": "stream",
     "text": [
      "parent fitnesses: [-0.62258227 -1.30959714  1.61725931  1.05606174 -1.28795116 -0.74010282]\n",
      "\n",
      "offspring fitnesses: [-0.10375235  1.35158518 -2.21468354  1.470087   -1.45500918  2.07523279\n",
      "  4.41353984  2.86580566 -0.56956531  1.1436688   1.94867156  0.89487802\n",
      " -0.43135494  1.57445885  0.41627988 -1.84787247 -0.29618792 -0.09982761\n",
      "  1.55124037  1.41592314 -0.98079193 -0.09795086 -0.89422165 -0.76590882\n",
      "  0.67060779  1.46064791  1.6388341   2.09908957 -1.70331585 -2.76509008]\n",
      "\n",
      "fitnesses after selection: [-2.76509008 -2.21468354 -1.84787247 -1.70331585 -1.45500918 -0.98079193]\n"
     ]
    }
   ],
   "source": [
    "parent = Population(6,10)\n",
    "parent.evaluate_fitness(eval_fun)\n",
    "offspring = Population(30,10)\n",
    "offspring.evaluate_fitness(eval_fun)\n",
    "print(f'parent fitnesses: {parent.all_fitnesses()}')\n",
    "print()\n",
    "print(f'offspring fitnesses: {offspring.all_fitnesses()}')\n",
    "print()\n",
    "\n",
    "from Selection import OneCommaL\n",
    "s = OneCommaL()\n",
    "p = s.select(parent, offspring)\n",
    "print(f'fitnesses after selection: {p.all_fitnesses()}')"
   ]
  },
  {
   "cell_type": "markdown",
   "metadata": {},
   "source": [
    "<h2>\n",
    "Recombination: Intermediate\n",
    "</h2>"
   ]
  },
  {
   "cell_type": "code",
   "execution_count": 10,
   "metadata": {},
   "outputs": [
    {
     "name": "stdout",
     "output_type": "stream",
     "text": [
      "<Population.Population object at 0x7f869e77dbe0>\n",
      "[-0.13871441 -0.2929713  -0.01337191  0.52598963  0.17434147 -0.14590792\n",
      " -0.63552793 -0.04522744  0.08074971  0.42949902]\n",
      "[-0.1399807  -0.39834648  0.45849203  0.03371277  0.39554603  0.21544024\n",
      "  0.1439842   0.06292066  0.18607693  0.36892914]\n",
      "[-0.21351873 -0.27233271 -0.37609017 -0.02565953  0.19927929 -0.03152674\n",
      " -0.13170271  0.05122782 -0.31450679  0.69978232]\n"
     ]
    }
   ],
   "source": [
    "from Recombination import Intermediate\n",
    "parent = Population(6,10)\n",
    "r = Intermediate(3)\n",
    "off = r.recombine(parent)\n",
    "print(off)\n",
    "for i in off.individuals:\n",
    "    print(i.values)"
   ]
  },
  {
   "cell_type": "code",
   "execution_count": 13,
   "metadata": {},
   "outputs": [],
   "source": [
    "from SimpleClassifier import *\n",
    "model = SimpleClassifier(sys.path[1]+'/model/simple_classifier')"
   ]
  },
  {
   "cell_type": "code",
   "execution_count": null,
   "metadata": {},
   "outputs": [],
   "source": []
  }
 ],
 "metadata": {
  "interpreter": {
   "hash": "1816e5b8539f9acb59161f698974e03141d0f020b6322f72e2cfb5eb3657a0af"
  },
  "kernelspec": {
   "display_name": "Python 3 (ipykernel)",
   "language": "python",
   "name": "python3"
  },
  "language_info": {
   "codemirror_mode": {
    "name": "ipython",
    "version": 3
   },
   "file_extension": ".py",
   "mimetype": "text/x-python",
   "name": "python",
   "nbconvert_exporter": "python",
   "pygments_lexer": "ipython3",
   "version": "3.9.10"
  }
 },
 "nbformat": 4,
 "nbformat_minor": 2
}
