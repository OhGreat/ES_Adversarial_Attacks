{
 "cells": [
  {
   "cell_type": "markdown",
   "metadata": {},
   "source": [
    "<h2>\n",
    "Individual\n",
    "</h2>"
   ]
  },
  {
   "cell_type": "code",
   "execution_count": 1,
   "metadata": {},
   "outputs": [
    {
     "name": "stdout",
     "output_type": "stream",
     "text": [
      "vals: [0.95220757 0.74305214 0.40533652 0.434568   0.57201117 0.26759449\n",
      " 0.42550982 0.42059912 0.80965762 0.22225114]\n",
      "sigmas: [1.66666667 1.66666667 1.66666667 1.66666667 1.66666667 1.66666667\n",
      " 1.66666667 1.66666667 1.66666667 1.66666667]\n",
      "alphas: [5.67508078 5.94934017 6.16677269 0.53404349 4.45081748 5.4068465\n",
      " 3.7819234  4.25340506 3.81524741 4.99161843 3.87660548 3.13085609\n",
      " 5.47909415 5.63901313 1.71898561 4.1901394  2.06012073 0.8623566\n",
      " 4.64030429 2.168601   4.55516771 1.87856103 5.82126208 0.94135455\n",
      " 2.741942   3.97833133 2.83691509 4.30090378 1.20114493 0.457486\n",
      " 5.79595451 4.42218952 6.16341505 5.85932216 4.09096788 1.52292672\n",
      " 1.01105251 5.70642068 4.71643388 3.69394615 4.38987767 4.8796581\n",
      " 0.97688689 0.94043943 4.47076395]\n"
     ]
    }
   ],
   "source": [
    "from classes.Individual import Individual\n",
    "i = Individual(10,5)\n",
    "print(f\"vals: {i.values}\")\n",
    "print(f\"sigmas: {i.sigmas}\")\n",
    "print(f\"alphas: {i.alphas}\")"
   ]
  },
  {
   "cell_type": "markdown",
   "metadata": {},
   "source": [
    "<h2>\n",
    "Individual: copy\n",
    "</h2>"
   ]
  },
  {
   "cell_type": "code",
   "execution_count": 2,
   "metadata": {},
   "outputs": [
    {
     "data": {
      "text/plain": [
       "array([0.95220757, 0.74305214, 0.40533652, 0.434568  , 0.57201117,\n",
       "       0.26759449, 0.42550982, 0.42059912, 0.80965762, 0.22225114])"
      ]
     },
     "execution_count": 2,
     "metadata": {},
     "output_type": "execute_result"
    }
   ],
   "source": [
    "i_copy = i.copy_individual()\n",
    "i_copy.values = 54\n",
    "i.values"
   ]
  },
  {
   "cell_type": "markdown",
   "metadata": {},
   "source": [
    "<h2>\n",
    "Population\n",
    "</h2>"
   ]
  },
  {
   "cell_type": "code",
   "execution_count": 3,
   "metadata": {},
   "outputs": [],
   "source": [
    "def eval_fun(values):\n",
    "    return sum(values)"
   ]
  },
  {
   "cell_type": "code",
   "execution_count": 4,
   "metadata": {},
   "outputs": [
    {
     "name": "stdout",
     "output_type": "stream",
     "text": [
      "population shape: (n_individuals: 4, n_elements:5)\n",
      "\n",
      "all fitnesses: [2.80632419 2.28339527 2.6989764  3.03628982]\n",
      "max: 3.036289824713676\n",
      "min: 2.2833952699072024\n",
      "avg: 2.706246421889049\n",
      "best: 2.2833952699072024\n"
     ]
    }
   ],
   "source": [
    "from classes.Population import Population\n",
    "p = Population(4,5)\n",
    "print(f\"population shape: (n_individuals: {len(p.individuals)}, n_elements:{len(p.individuals[0].values)})\")\n",
    "p.evaluate_fitness(eval_fun)\n",
    "print()\n",
    "print(f'all fitnesses: {p.all_fitnesses()}')\n",
    "print(f'max: {p.max_fitness()}')\n",
    "print(f'min: {p.min_fitness()}')\n",
    "print(f'avg: {p.ave_fitness()}')\n",
    "print(f'best: {p.best_fitness(is_min=True)}')"
   ]
  },
  {
   "cell_type": "markdown",
   "metadata": {},
   "source": [
    "<h2>Mutation: CustomSigma</h2>"
   ]
  },
  {
   "cell_type": "code",
   "execution_count": 5,
   "metadata": {},
   "outputs": [
    {
     "name": "stdout",
     "output_type": "stream",
     "text": [
      "before mutation: [0.95220757 0.74305214 0.40533652 0.434568   0.57201117 0.26759449\n",
      " 0.42550982 0.42059912 0.80965762 0.22225114]\n",
      "\n",
      "after mutation: [ 0.58503254 -0.21120067 -2.23119851  1.40127573  0.65372815  1.00265071\n",
      "  0.96372908  1.8406597  -0.22451856 -1.30114205]\n"
     ]
    }
   ],
   "source": [
    "from classes.Mutation import CustomSigma\n",
    "c = CustomSigma()\n",
    "print(f'before mutation: {i.values}')\n",
    "c.mutate(i)\n",
    "print()\n",
    "print(f'after mutation: {i.values}')"
   ]
  },
  {
   "cell_type": "code",
   "execution_count": 6,
   "metadata": {},
   "outputs": [
    {
     "name": "stdout",
     "output_type": "stream",
     "text": [
      "[0.11538031 0.31568957 0.73635163 0.60178977 0.79725814]\n",
      "[-0.16750813 -0.10378235  0.43689625  0.29880548 -1.27554184]\n"
     ]
    }
   ],
   "source": [
    "p = Population(10,5)\n",
    "print(p.individuals[2].values)\n",
    "for ind in p.individuals:\n",
    "    c.mutate(ind)\n",
    "print(p.individuals[2].values)"
   ]
  },
  {
   "cell_type": "markdown",
   "metadata": {},
   "source": [
    "<h2> \n",
    "Selection: 1 + l\n",
    "</h2>"
   ]
  },
  {
   "cell_type": "code",
   "execution_count": 7,
   "metadata": {},
   "outputs": [
    {
     "name": "stdout",
     "output_type": "stream",
     "text": [
      "parent fitnesses: [5.6415693  3.31565236 4.52280852 7.09471912 4.88871741 5.63781553]\n",
      "\n",
      "offspring fitnesses: [4.67295668 4.80708079 5.74147728 5.08970663 6.96615052 6.79414014\n",
      " 3.85818098 3.79792803 5.69651291 3.99231182 5.14833674 4.94912342\n",
      " 4.34951565 4.62010351 5.7975655  6.00658978 5.82863713 5.5152282\n",
      " 5.48330287 4.62169027 6.31307964 5.20676138 4.12654785 3.96631708\n",
      " 4.23735132 5.86402715 4.40354755 3.73457968 6.20787769 4.9840436 ]\n",
      "\n",
      "fitnesses after selection: [3.31565236 3.73457968 3.79792803 3.85818098 3.96631708 3.99231182]\n"
     ]
    }
   ],
   "source": [
    "parent = Population(6,10)\n",
    "parent.evaluate_fitness(eval_fun)\n",
    "offspring = Population(30,10)\n",
    "offspring.evaluate_fitness(eval_fun)\n",
    "print(f'parent fitnesses: {parent.all_fitnesses()}')\n",
    "print()\n",
    "print(f'offspring fitnesses: {offspring.all_fitnesses()}')\n",
    "print()\n",
    "from classes.Selection import OnePlusL\n",
    "s = OnePlusL()\n",
    "p = s.select(parent, offspring)\n",
    "print(f'fitnesses after selection: {p.all_fitnesses()}')"
   ]
  },
  {
   "cell_type": "markdown",
   "metadata": {},
   "source": [
    "<h2> \n",
    "Selection: 1 , l\n",
    "</h2>"
   ]
  },
  {
   "cell_type": "code",
   "execution_count": 8,
   "metadata": {},
   "outputs": [
    {
     "name": "stdout",
     "output_type": "stream",
     "text": [
      "parent fitnesses: [5.38433587 5.12451074 2.62376501 5.95371102 4.99747895 5.1585164 ]\n",
      "\n",
      "offspring fitnesses: [4.90796623 6.10578952 5.34306047 6.07247679 5.61547046 4.10675278\n",
      " 5.75651479 5.9507734  5.07725157 5.30597987 4.70520162 6.18548182\n",
      " 3.74679822 5.37032973 6.20470841 3.96352969 4.92797361 4.49916809\n",
      " 6.06911523 3.86628963 6.18303582 3.52234152 5.02696247 5.49654359\n",
      " 5.55832727 4.91867517 4.38545876 6.01279527 4.991924   4.5850669 ]\n",
      "\n",
      "fitnesses after selection: [3.52234152 3.74679822 3.86628963 3.96352969 4.10675278 4.38545876]\n"
     ]
    }
   ],
   "source": [
    "parent = Population(6,10)\n",
    "parent.evaluate_fitness(eval_fun)\n",
    "offspring = Population(30,10)\n",
    "offspring.evaluate_fitness(eval_fun)\n",
    "print(f'parent fitnesses: {parent.all_fitnesses()}')\n",
    "print()\n",
    "print(f'offspring fitnesses: {offspring.all_fitnesses()}')\n",
    "print()\n",
    "\n",
    "from classes.Selection import OneCommaL\n",
    "s = OneCommaL()\n",
    "p = s.select(parent, offspring)\n",
    "print(f'fitnesses after selection: {p.all_fitnesses()}')"
   ]
  },
  {
   "cell_type": "markdown",
   "metadata": {},
   "source": [
    "<h2>\n",
    "Recombination: Intermediate\n",
    "</h2>"
   ]
  },
  {
   "cell_type": "code",
   "execution_count": 9,
   "metadata": {},
   "outputs": [
    {
     "name": "stdout",
     "output_type": "stream",
     "text": [
      "<classes.Population.Population object at 0x7fbff329bfd0>\n",
      "[0.20863087 0.5127509  0.04962552 0.23369102 0.3927599  0.64211251\n",
      " 0.85264922 0.35618924 0.81946417 0.34465273]\n",
      "[0.20339253 0.4795481  0.25596325 0.11961253 0.3817334  0.20077555\n",
      " 0.32007956 0.64825355 0.44134333 0.43366009]\n",
      "[0.12485159 0.32141498 0.5965978  0.13475354 0.38836543 0.26597132\n",
      " 0.53759022 0.29457815 0.33721764 0.28759505]\n"
     ]
    }
   ],
   "source": [
    "from classes.Recombination import Intermediate\n",
    "parent = Population(6,10)\n",
    "r = Intermediate(3)\n",
    "off = r.recombine(parent)\n",
    "print(off)\n",
    "for i in off.individuals:\n",
    "    print(i.values)"
   ]
  },
  {
   "cell_type": "code",
   "execution_count": null,
   "metadata": {},
   "outputs": [],
   "source": []
  }
 ],
 "metadata": {
  "interpreter": {
   "hash": "1816e5b8539f9acb59161f698974e03141d0f020b6322f72e2cfb5eb3657a0af"
  },
  "kernelspec": {
   "display_name": "Python 3.9.10 64-bit ('tf_env')",
   "language": "python",
   "name": "python3"
  },
  "language_info": {
   "codemirror_mode": {
    "name": "ipython",
    "version": 3
   },
   "file_extension": ".py",
   "mimetype": "text/x-python",
   "name": "python",
   "nbconvert_exporter": "python",
   "pygments_lexer": "ipython3",
   "version": "3.9.10"
  },
  "orig_nbformat": 4
 },
 "nbformat": 4,
 "nbformat_minor": 2
}
