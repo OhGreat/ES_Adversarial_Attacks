{
 "cells": [
  {
   "cell_type": "code",
   "execution_count": 1,
   "metadata": {},
   "outputs": [
    {
     "name": "stdout",
     "output_type": "stream",
     "text": [
      "vals: [0.31247277 0.78091226 0.59085815 0.49933968 0.15411518 0.06582035\n",
      " 0.08534682 0.63878179 0.50608579 0.21239484]\n",
      "sigmas: [1.66666667 1.66666667 1.66666667 1.66666667 1.66666667 1.66666667\n",
      " 1.66666667 1.66666667 1.66666667 1.66666667]\n",
      "alphas: [5.15608985 1.13848584 0.66909384 5.34125814 5.80342876 2.63340899\n",
      " 4.73317443 0.05886964 2.7311937  5.07028597 5.82557591 4.00459873\n",
      " 3.49709722 5.29526125 4.40396052 3.84412458 2.61878461 2.95831359\n",
      " 1.34407326 0.68668919 0.97456367 3.0124621  3.38066621 2.32537338\n",
      " 2.32525866 2.52513511 1.43067994 0.61413471 0.5347111  4.03925171\n",
      " 2.02715631 1.72516816 3.72430347 0.6865625  4.13287309 3.11040228\n",
      " 3.34987275 3.80788886 4.34304899 6.20328361 1.20873419 4.83498592\n",
      " 2.00476656 5.03931094 6.19801842]\n"
     ]
    }
   ],
   "source": [
    "from classes.Individual import Individual\n",
    "i = Individual(10,5)\n",
    "print(f\"vals: {i.values}\")\n",
    "print(f\"sigmas: {i.sigmas}\")\n",
    "print(f\"alphas: {i.alphas}\")"
   ]
  },
  {
   "cell_type": "code",
   "execution_count": 2,
   "metadata": {},
   "outputs": [
    {
     "data": {
      "text/plain": [
       "array([0.31247277, 0.78091226, 0.59085815, 0.49933968, 0.15411518,\n",
       "       0.06582035, 0.08534682, 0.63878179, 0.50608579, 0.21239484])"
      ]
     },
     "execution_count": 2,
     "metadata": {},
     "output_type": "execute_result"
    }
   ],
   "source": [
    "i_copy = i.copy_individual()\n",
    "i_copy.values = 54\n",
    "i.values"
   ]
  },
  {
   "cell_type": "code",
   "execution_count": 3,
   "metadata": {},
   "outputs": [],
   "source": [
    "def eval_fun(values):\n",
    "    return sum(values)"
   ]
  },
  {
   "cell_type": "code",
   "execution_count": 4,
   "metadata": {},
   "outputs": [
    {
     "name": "stdout",
     "output_type": "stream",
     "text": [
      "population shape: (n_individuals: 4, n_elements:5)\n",
      "\n",
      "all fitnesses: [2.72790267 1.80821989 3.1965531  2.84936911]\n",
      "max: 3.1965531018313382\n",
      "min: 1.8082198933036033\n",
      "avg: 2.64551119512475\n",
      "best: 1.8082198933036033\n"
     ]
    }
   ],
   "source": [
    "from classes.Population import Population\n",
    "p = Population(4,5)\n",
    "print(f\"population shape: (n_individuals: {len(p.individuals)}, n_elements:{len(p.individuals[0].values)})\")\n",
    "p.evaluate_fitness(eval_fun)\n",
    "print()\n",
    "print(f'all fitnesses: {p.all_fitnesses()}')\n",
    "print(f'max: {p.max_fitness()}')\n",
    "print(f'min: {p.min_fitness()}')\n",
    "print(f'avg: {p.ave_fitness()}')\n",
    "print(f'best: {p.best_fitness(is_min=True)}')"
   ]
  },
  {
   "cell_type": "markdown",
   "metadata": {},
   "source": [
    "<h2>Mutation: CustomSigma</h2>"
   ]
  },
  {
   "cell_type": "code",
   "execution_count": 5,
   "metadata": {},
   "outputs": [
    {
     "name": "stdout",
     "output_type": "stream",
     "text": [
      "before mutation: [0.31247277 0.78091226 0.59085815 0.49933968 0.15411518 0.06582035\n",
      " 0.08534682 0.63878179 0.50608579 0.21239484]\n",
      "\n",
      "after mutation: [ 3.34933991 -0.41027484  2.11898365 -2.76814468 -0.06299124 -1.35763699\n",
      " -0.18719015  0.86666627 -3.47457653  2.72057493]\n"
     ]
    }
   ],
   "source": [
    "from classes.Mutation import CustomSigma\n",
    "c = CustomSigma(0.1,0.05)\n",
    "print(f'before mutation: {i.values}')\n",
    "c.mutate(i)\n",
    "print()\n",
    "print(f'after mutation: {i.values}')"
   ]
  },
  {
   "cell_type": "markdown",
   "metadata": {},
   "source": [
    "<h2> \n",
    "Selection: 1 + l\n",
    "</h2>"
   ]
  },
  {
   "cell_type": "code",
   "execution_count": 6,
   "metadata": {},
   "outputs": [
    {
     "name": "stdout",
     "output_type": "stream",
     "text": [
      "parent fitnesses: [4.66271689 5.1953888  4.37173093 4.37546677 3.77160767 5.18021851]\n",
      "\n",
      "offspring fitnesses: [4.87827642 4.81636039 5.91017069 4.96296765 5.52886911 6.37026483\n",
      " 5.06792083 4.5624209  5.53487657 4.83158692 4.84236088 4.63911805\n",
      " 4.88798328 5.64525043 4.40262668 4.45144143 5.17498495 7.28306644\n",
      " 6.41688121 5.17754094 4.78353278 3.9559855  3.80569503 4.74093399\n",
      " 6.60670987 5.46226098 5.14264806 4.00662623 5.95918427 4.07085335]\n",
      "\n",
      "fitnesses after selection: [3.77160767 3.80569503 3.9559855  4.00662623 4.07085335 4.37173093]\n"
     ]
    }
   ],
   "source": [
    "parent = Population(6,10)\n",
    "parent.evaluate_fitness(eval_fun)\n",
    "offspring = Population(30,10)\n",
    "offspring.evaluate_fitness(eval_fun)\n",
    "print(f'parent fitnesses: {parent.all_fitnesses()}')\n",
    "print()\n",
    "print(f'offspring fitnesses: {offspring.all_fitnesses()}')\n",
    "print()\n",
    "from classes.Selection import OnePlusL\n",
    "s = OnePlusL()\n",
    "p = s.select(parent, offspring)\n",
    "print(f'fitnesses after selection: {p.all_fitnesses()}')"
   ]
  },
  {
   "cell_type": "markdown",
   "metadata": {},
   "source": [
    "<h2> \n",
    "Selection: 1 , l\n",
    "</h2>"
   ]
  },
  {
   "cell_type": "code",
   "execution_count": 7,
   "metadata": {},
   "outputs": [
    {
     "name": "stdout",
     "output_type": "stream",
     "text": [
      "parent fitnesses: [3.60554683 5.09846941 6.30095651 4.71282043 4.39344063 5.71183994]\n",
      "\n",
      "offspring fitnesses: [7.26720487 4.78416957 6.1442773  3.22844743 5.13059375 4.55980399\n",
      " 3.46825216 4.33020314 5.46783412 3.88079342 6.42509029 5.02529366\n",
      " 5.42871945 5.79081651 4.79883709 5.87663103 4.24441313 4.90833105\n",
      " 5.73758872 5.15855416 5.00022018 4.72320217 6.58017209 4.34539304\n",
      " 5.17317767 4.87970705 3.05930401 4.69628797 6.13421416 4.35417098]\n",
      "\n",
      "fitnesses after selection: [3.05930401 3.22844743 3.46825216 3.88079342 4.24441313 4.33020314]\n"
     ]
    }
   ],
   "source": [
    "parent = Population(6,10)\n",
    "parent.evaluate_fitness(eval_fun)\n",
    "offspring = Population(30,10)\n",
    "offspring.evaluate_fitness(eval_fun)\n",
    "print(f'parent fitnesses: {parent.all_fitnesses()}')\n",
    "print()\n",
    "print(f'offspring fitnesses: {offspring.all_fitnesses()}')\n",
    "print()\n",
    "\n",
    "from classes.Selection import OneCommaL\n",
    "s = OneCommaL()\n",
    "p = s.select(parent, offspring)\n",
    "print(f'fitnesses after selection: {p.all_fitnesses()}')"
   ]
  },
  {
   "cell_type": "markdown",
   "metadata": {},
   "source": [
    "<h2>\n",
    "Recombination: Intermediate\n",
    "</h2>"
   ]
  },
  {
   "cell_type": "code",
   "execution_count": 11,
   "metadata": {},
   "outputs": [
    {
     "name": "stdout",
     "output_type": "stream",
     "text": [
      "<classes.Population.Population object at 0x7f7534304190>\n",
      "[0.56177117 0.74260993 0.66763191 0.78502786 0.68132426 0.38766256\n",
      " 0.57575694 0.40388176 0.78016046 0.66128371]\n",
      "[0.76592324 0.57094223 0.32415417 0.87504466 0.52281993 0.46039059\n",
      " 0.56809967 0.49523867 0.7343102  0.46576194]\n",
      "[0.76592324 0.57094223 0.32415417 0.87504466 0.52281993 0.46039059\n",
      " 0.56809967 0.49523867 0.7343102  0.46576194]\n"
     ]
    }
   ],
   "source": [
    "from classes.Recombination import Intermediate\n",
    "parent = Population(6,10)\n",
    "r = Intermediate(3)\n",
    "off = r.recombine(parent)\n",
    "print(off)\n",
    "for i in off.individuals:\n",
    "    print(i.values)"
   ]
  },
  {
   "cell_type": "code",
   "execution_count": null,
   "metadata": {},
   "outputs": [],
   "source": []
  }
 ],
 "metadata": {
  "interpreter": {
   "hash": "1816e5b8539f9acb59161f698974e03141d0f020b6322f72e2cfb5eb3657a0af"
  },
  "kernelspec": {
   "display_name": "Python 3.9.10 64-bit ('tf_env')",
   "language": "python",
   "name": "python3"
  },
  "language_info": {
   "codemirror_mode": {
    "name": "ipython",
    "version": 3
   },
   "file_extension": ".py",
   "mimetype": "text/x-python",
   "name": "python",
   "nbconvert_exporter": "python",
   "pygments_lexer": "ipython3",
   "version": "3.9.10"
  },
  "orig_nbformat": 4
 },
 "nbformat": 4,
 "nbformat_minor": 2
}
