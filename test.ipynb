{
 "cells": [
  {
   "cell_type": "code",
   "execution_count": 1,
   "metadata": {},
   "outputs": [
    {
     "name": "stdout",
     "output_type": "stream",
     "text": [
      "vals: [0.05140002 0.89729184 0.11860229 0.53429985 0.96239613 0.24460997\n",
      " 0.91832278 0.60823107 0.62614981 0.39733714]\n",
      "sigmas: [1.66666667 1.66666667 1.66666667 1.66666667 1.66666667 1.66666667\n",
      " 1.66666667 1.66666667 1.66666667 1.66666667]\n",
      "alphas: [5.58054796 4.53472196 0.76469408 5.43657724 1.30818205 1.0587243\n",
      " 5.62212734 0.9449052  0.72090821 6.20942868 2.72021782 3.99508133\n",
      " 1.89823989 3.75716939 0.02548368 3.20013511 1.3378078  3.81154916\n",
      " 3.40047055 5.04915329 0.95164629 4.2336362  3.20269122 3.90441773\n",
      " 3.47263018 4.58537736 3.75877021 0.85605896 5.87164455 5.14943805\n",
      " 3.3626513  3.45264888 6.05287985 3.33008594 0.48177781 2.77784398\n",
      " 1.15237573 3.46832311 4.43265062 5.25084163 4.1655039  4.25474733\n",
      " 3.94300697 3.8664481  1.55778204]\n"
     ]
    }
   ],
   "source": [
    "from classes.Individual import Individual\n",
    "i = Individual(10,5)\n",
    "print(f\"vals: {i.values}\")\n",
    "print(f\"sigmas: {i.sigmas}\")\n",
    "print(f\"alphas: {i.alphas}\")"
   ]
  },
  {
   "cell_type": "code",
   "execution_count": 2,
   "metadata": {},
   "outputs": [
    {
     "data": {
      "text/plain": [
       "array([0.05140002, 0.89729184, 0.11860229, 0.53429985, 0.96239613,\n",
       "       0.24460997, 0.91832278, 0.60823107, 0.62614981, 0.39733714])"
      ]
     },
     "execution_count": 2,
     "metadata": {},
     "output_type": "execute_result"
    }
   ],
   "source": [
    "i_copy = i.copy_individual()\n",
    "i_copy.values = 54\n",
    "i.values"
   ]
  },
  {
   "cell_type": "code",
   "execution_count": 3,
   "metadata": {},
   "outputs": [],
   "source": [
    "def eval_fun(values):\n",
    "    return sum(values)"
   ]
  },
  {
   "cell_type": "code",
   "execution_count": 4,
   "metadata": {},
   "outputs": [
    {
     "name": "stdout",
     "output_type": "stream",
     "text": [
      "population shape: (n_individuals: 4, n_elements:5)\n",
      "\n",
      "all fitnesses: [2.89767719 2.46595267 1.89946078 1.92393764]\n",
      "max: 2.897677192850486\n",
      "min: 1.8994607819859222\n",
      "avg: 2.2967570712134764\n",
      "best: 1.8994607819859222\n"
     ]
    }
   ],
   "source": [
    "from classes.Population import Population\n",
    "p = Population(4,5)\n",
    "print(f\"population shape: (n_individuals: {len(p.individuals)}, n_elements:{len(p.individuals[0].values)})\")\n",
    "p.evaluate_fitness(eval_fun)\n",
    "print()\n",
    "print(f'all fitnesses: {p.all_fitnesses()}')\n",
    "print(f'max: {p.max_fitness()}')\n",
    "print(f'min: {p.min_fitness()}')\n",
    "print(f'avg: {p.ave_fitness()}')\n",
    "print(f'best: {p.best_fitness(is_min=True)}')"
   ]
  },
  {
   "cell_type": "markdown",
   "metadata": {},
   "source": [
    "<h2>Mutation: CustomSigma</h2>"
   ]
  },
  {
   "cell_type": "code",
   "execution_count": 5,
   "metadata": {},
   "outputs": [
    {
     "name": "stdout",
     "output_type": "stream",
     "text": [
      "before mutation: [0.05140002 0.89729184 0.11860229 0.53429985 0.96239613 0.24460997\n",
      " 0.91832278 0.60823107 0.62614981 0.39733714]\n",
      "\n",
      "after mutation: [ 0.49336596  2.55993895  1.6503327   0.84022798  1.80288036  2.04443411\n",
      "  0.81824208  1.59199526 -0.11845344 -1.33006326]\n"
     ]
    }
   ],
   "source": [
    "from classes.Mutation import CustomSigma\n",
    "c = CustomSigma(0.1,0.05)\n",
    "print(f'before mutation: {i.values}')\n",
    "c.mutate(i)\n",
    "print()\n",
    "print(f'after mutation: {i.values}')"
   ]
  },
  {
   "cell_type": "code",
   "execution_count": 10,
   "metadata": {},
   "outputs": [
    {
     "name": "stdout",
     "output_type": "stream",
     "text": [
      "[0.08248605 0.49193677 0.81389994 0.79854027 0.65922399]\n",
      "[ 1.03053428 -0.08125189  0.45719124 -0.35733769 -0.54858504]\n"
     ]
    }
   ],
   "source": [
    "p = Population(10,5)\n",
    "print(p.individuals[2].values)\n",
    "for ind in p.individuals:\n",
    "    c.mutate(ind)\n",
    "print(p.individuals[2].values)"
   ]
  },
  {
   "cell_type": "markdown",
   "metadata": {},
   "source": [
    "<h2> \n",
    "Selection: 1 + l\n",
    "</h2>"
   ]
  },
  {
   "cell_type": "code",
   "execution_count": 6,
   "metadata": {},
   "outputs": [
    {
     "name": "stdout",
     "output_type": "stream",
     "text": [
      "parent fitnesses: [4.2465857  6.24865198 3.13605929 5.2457198  4.32574072 5.44491766]\n",
      "\n",
      "offspring fitnesses: [4.76861417 5.09835593 5.0713147  6.20789588 6.20693875 3.24821531\n",
      " 4.50906757 5.87897484 2.45920477 6.006366   5.10705068 5.24191243\n",
      " 5.79847912 5.73322693 3.85603581 5.25211565 5.17689422 3.92870449\n",
      " 3.95239467 6.82205102 5.49430748 4.6500424  6.21037104 5.12882728\n",
      " 5.02041869 4.56647301 6.60816755 5.75686835 5.61405997 4.36577642]\n",
      "\n",
      "fitnesses after selection: [2.45920477 3.13605929 3.24821531 3.85603581 3.92870449 3.95239467]\n"
     ]
    }
   ],
   "source": [
    "parent = Population(6,10)\n",
    "parent.evaluate_fitness(eval_fun)\n",
    "offspring = Population(30,10)\n",
    "offspring.evaluate_fitness(eval_fun)\n",
    "print(f'parent fitnesses: {parent.all_fitnesses()}')\n",
    "print()\n",
    "print(f'offspring fitnesses: {offspring.all_fitnesses()}')\n",
    "print()\n",
    "from classes.Selection import OnePlusL\n",
    "s = OnePlusL()\n",
    "p = s.select(parent, offspring)\n",
    "print(f'fitnesses after selection: {p.all_fitnesses()}')"
   ]
  },
  {
   "cell_type": "markdown",
   "metadata": {},
   "source": [
    "<h2> \n",
    "Selection: 1 , l\n",
    "</h2>"
   ]
  },
  {
   "cell_type": "code",
   "execution_count": 7,
   "metadata": {},
   "outputs": [
    {
     "name": "stdout",
     "output_type": "stream",
     "text": [
      "parent fitnesses: [5.73089394 5.65803395 4.88952993 4.13838886 5.59891568 4.10820756]\n",
      "\n",
      "offspring fitnesses: [5.7933881  4.29878491 6.25961169 4.57417955 4.82705719 4.42599286\n",
      " 5.76513829 5.47816756 6.56677245 5.7991621  4.7186377  4.33413072\n",
      " 4.11663165 4.27179215 4.97445328 6.28998055 5.0576576  3.75756273\n",
      " 5.76441278 4.17362839 3.48960557 4.76322163 5.63395418 4.66701234\n",
      " 5.04622127 4.26975758 5.30232798 4.55221791 5.12806558 4.4242532 ]\n",
      "\n",
      "fitnesses after selection: [3.48960557 3.75756273 4.11663165 4.17362839 4.26975758 4.27179215]\n"
     ]
    }
   ],
   "source": [
    "parent = Population(6,10)\n",
    "parent.evaluate_fitness(eval_fun)\n",
    "offspring = Population(30,10)\n",
    "offspring.evaluate_fitness(eval_fun)\n",
    "print(f'parent fitnesses: {parent.all_fitnesses()}')\n",
    "print()\n",
    "print(f'offspring fitnesses: {offspring.all_fitnesses()}')\n",
    "print()\n",
    "\n",
    "from classes.Selection import OneCommaL\n",
    "s = OneCommaL()\n",
    "p = s.select(parent, offspring)\n",
    "print(f'fitnesses after selection: {p.all_fitnesses()}')"
   ]
  },
  {
   "cell_type": "markdown",
   "metadata": {},
   "source": [
    "<h2>\n",
    "Recombination: Intermediate\n",
    "</h2>"
   ]
  },
  {
   "cell_type": "code",
   "execution_count": 8,
   "metadata": {},
   "outputs": [
    {
     "name": "stdout",
     "output_type": "stream",
     "text": [
      "<classes.Population.Population object at 0x7fc05ae9a790>\n",
      "[0.6623429  0.65314036 0.58624794 0.76901518 0.74420888 0.60224189\n",
      " 0.1489804  0.8325321  0.16024883 0.66094653]\n",
      "[0.59970387 0.75033655 0.35383873 0.47687875 0.80556276 0.89949257\n",
      " 0.38489951 0.96097057 0.47950703 0.50041502]\n",
      "[0.83286333 0.53294926 0.5658025  0.45974906 0.61239112 0.67750882\n",
      " 0.28011921 0.37972499 0.77402014 0.5418557 ]\n"
     ]
    }
   ],
   "source": [
    "from classes.Recombination import Intermediate\n",
    "parent = Population(6,10)\n",
    "r = Intermediate(3)\n",
    "off = r.recombine(parent)\n",
    "print(off)\n",
    "for i in off.individuals:\n",
    "    print(i.values)"
   ]
  },
  {
   "cell_type": "code",
   "execution_count": null,
   "metadata": {},
   "outputs": [],
   "source": []
  }
 ],
 "metadata": {
  "interpreter": {
   "hash": "1816e5b8539f9acb59161f698974e03141d0f020b6322f72e2cfb5eb3657a0af"
  },
  "kernelspec": {
   "display_name": "Python 3.9.10 64-bit ('tf_env')",
   "language": "python",
   "name": "python3"
  },
  "language_info": {
   "codemirror_mode": {
    "name": "ipython",
    "version": 3
   },
   "file_extension": ".py",
   "mimetype": "text/x-python",
   "name": "python",
   "nbconvert_exporter": "python",
   "pygments_lexer": "ipython3",
   "version": "3.9.10"
  },
  "orig_nbformat": 4
 },
 "nbformat": 4,
 "nbformat_minor": 2
}
