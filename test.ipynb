{
 "cells": [
  {
   "cell_type": "code",
   "execution_count": 40,
   "metadata": {},
   "outputs": [
    {
     "name": "stdout",
     "output_type": "stream",
     "text": [
      "vals: [-0.03593473  0.03054504  0.41681747  0.71201424 -0.39937978  0.69845553\n",
      " -0.32520077  0.68897278 -0.49356782 -0.349858  ]\n",
      "sigmas: [1.66666667 1.66666667 1.66666667 1.66666667 1.66666667 1.66666667\n",
      " 1.66666667 1.66666667 1.66666667 1.66666667]\n",
      "alphas: [3.56973926 2.82413746 0.94387727 3.54376363 4.2561695  6.2218679\n",
      " 1.93668258 2.68661429 0.60721614 3.32359431 2.97351105 0.29535592\n",
      " 6.27085865 6.26993013 4.95378344 0.98101843 5.25604876 0.36416677\n",
      " 2.7899473  1.283966   4.4711788  5.67283348 0.90628824 1.71179724\n",
      " 5.20559048 0.43070079 5.37465148 1.09939128 2.07754958 3.13023864\n",
      " 5.31508693 0.24523436 1.54914818 0.89722647 0.19621244 0.30271588\n",
      " 1.8611829  0.16502822 1.47220271 0.97356848 2.84783806 0.48529646\n",
      " 4.4175186  5.00994448 3.28977267]\n"
     ]
    }
   ],
   "source": [
    "from classes.Individual import Individual\n",
    "i = Individual(10,5)\n",
    "print(f\"vals: {i.values}\")\n",
    "print(f\"sigmas: {i.sigmas}\")\n",
    "print(f\"alphas: {i.alphas}\")"
   ]
  },
  {
   "cell_type": "code",
   "execution_count": 41,
   "metadata": {},
   "outputs": [],
   "source": [
    "def eval_fun(values):\n",
    "    return sum(values)"
   ]
  },
  {
   "cell_type": "code",
   "execution_count": 42,
   "metadata": {},
   "outputs": [
    {
     "name": "stdout",
     "output_type": "stream",
     "text": [
      "population shape: (n_individuals: 4, n_elements:5)\n",
      "\n",
      "all fitnesses: [-0.05459261 -0.59930674 -0.27225492 -0.28839521], max: -0.05459260765392404, min: -0.5993067434283261, avg: -0.3036373717758589\n"
     ]
    }
   ],
   "source": [
    "from classes.Population import Population\n",
    "p = Population(4,5,0, eval_fun)\n",
    "print(f\"population shape: (n_individuals: {len(p.individuals)}, n_elements:{len(p.individuals[0].values)})\")\n",
    "p.evaluate_fitness()\n",
    "print()\n",
    "print(f\"all fitnesses: {p.all_fitnesses()}, max: {p.max_fitness()}, min: {p.min_fitness()}, avg: {p.ave_fitness()}\")"
   ]
  },
  {
   "cell_type": "code",
   "execution_count": 45,
   "metadata": {},
   "outputs": [
    {
     "name": "stdout",
     "output_type": "stream",
     "text": [
      "before mutation: [ 4.20853334 -1.15679178  2.05847212  3.73750479 -5.28305764  5.20953932\n",
      "  0.7629598   2.03611399  2.58239192 -1.5249734 ]\n",
      "\n",
      "after mutation: [ 5.31336196 -2.6192454   4.45007685  3.82367045 -6.53109095  7.87733783\n",
      " -0.53227342  2.88425346  2.112346   -6.51335693]\n"
     ]
    }
   ],
   "source": [
    "from classes.Mutation import CustomSigma\n",
    "c = CustomSigma(0.1,0.05)\n",
    "print(f'before mutation: {i.values}')\n",
    "c.mutate(i)\n",
    "print()\n",
    "print(f'after mutation: {i.values}')"
   ]
  },
  {
   "cell_type": "code",
   "execution_count": 46,
   "metadata": {},
   "outputs": [],
   "source": [
    "population = Population(5,10,0, eval_fun)\n",
    "offspring = Population(30,10,0, eval_fun)"
   ]
  },
  {
   "cell_type": "code",
   "execution_count": 48,
   "metadata": {},
   "outputs": [
    {
     "ename": "TypeError",
     "evalue": "select() missing 1 required positional argument: 'offspring'",
     "output_type": "error",
     "traceback": [
      "\u001b[0;31m---------------------------------------------------------------------------\u001b[0m",
      "\u001b[0;31mTypeError\u001b[0m                                 Traceback (most recent call last)",
      "\u001b[1;32m/home/dimi/Workdir/EA_ADL/test.ipynb Cell 6'\u001b[0m in \u001b[0;36m<module>\u001b[0;34m\u001b[0m\n\u001b[1;32m      <a href='vscode-notebook-cell:/home/dimi/Workdir/EA_ADL/test.ipynb#ch0000017?line=0'>1</a>\u001b[0m \u001b[39mfrom\u001b[39;00m \u001b[39mclasses\u001b[39;00m\u001b[39m.\u001b[39;00m\u001b[39mSelection\u001b[39;00m \u001b[39mimport\u001b[39;00m OnePlusL\n\u001b[0;32m----> <a href='vscode-notebook-cell:/home/dimi/Workdir/EA_ADL/test.ipynb#ch0000017?line=1'>2</a>\u001b[0m s \u001b[39m=\u001b[39m OnePlusL\u001b[39m.\u001b[39;49mselect(population,offspring)\n",
      "\u001b[0;31mTypeError\u001b[0m: select() missing 1 required positional argument: 'offspring'"
     ]
    }
   ],
   "source": [
    "from classes.Selection import OnePlusL\n",
    "s = OnePlusL.select(population,offspring)"
   ]
  },
  {
   "cell_type": "code",
   "execution_count": null,
   "metadata": {},
   "outputs": [],
   "source": []
  }
 ],
 "metadata": {
  "interpreter": {
   "hash": "1816e5b8539f9acb59161f698974e03141d0f020b6322f72e2cfb5eb3657a0af"
  },
  "kernelspec": {
   "display_name": "Python 3.9.10 64-bit ('tf_env')",
   "language": "python",
   "name": "python3"
  },
  "language_info": {
   "codemirror_mode": {
    "name": "ipython",
    "version": 3
   },
   "file_extension": ".py",
   "mimetype": "text/x-python",
   "name": "python",
   "nbconvert_exporter": "python",
   "pygments_lexer": "ipython3",
   "version": "3.9.10"
  },
  "orig_nbformat": 4
 },
 "nbformat": 4,
 "nbformat_minor": 2
}
